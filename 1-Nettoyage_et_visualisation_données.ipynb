{
 "cells": [
  {
   "cell_type": "markdown",
   "id": "cb1569eb",
   "metadata": {},
   "source": [
    "### Objectif : Identification des caractéristiques des véhicules qui émettent le plus de CO2 à partir des données des émissions de CO2 des véhicules en France"
   ]
  },
  {
   "cell_type": "code",
   "execution_count": 48,
   "id": "78adcadd-2b1d-4d0b-be4a-32fb1da12f4d",
   "metadata": {},
   "outputs": [],
   "source": [
    "import pandas as pd"
   ]
  },
  {
   "cell_type": "code",
   "execution_count": 49,
   "id": "aa10f890-d94c-4b5f-9e30-74d5f11ace86",
   "metadata": {},
   "outputs": [],
   "source": [
    "df = pd.read_csv('data.csv', index_col='ID', low_memory=False)"
   ]
  },
  {
   "cell_type": "code",
   "execution_count": 50,
   "id": "1c56847e-e8f2-4137-bf6f-566c2083d02d",
   "metadata": {},
   "outputs": [
    {
     "data": {
      "text/html": [
       "<div>\n",
       "<style scoped>\n",
       "    .dataframe tbody tr th:only-of-type {\n",
       "        vertical-align: middle;\n",
       "    }\n",
       "\n",
       "    .dataframe tbody tr th {\n",
       "        vertical-align: top;\n",
       "    }\n",
       "\n",
       "    .dataframe thead th {\n",
       "        text-align: right;\n",
       "    }\n",
       "</style>\n",
       "<table border=\"1\" class=\"dataframe\">\n",
       "  <thead>\n",
       "    <tr style=\"text-align: right;\">\n",
       "      <th></th>\n",
       "      <th>Country</th>\n",
       "      <th>VFN</th>\n",
       "      <th>Mp</th>\n",
       "      <th>Mh</th>\n",
       "      <th>Man</th>\n",
       "      <th>MMS</th>\n",
       "      <th>Tan</th>\n",
       "      <th>T</th>\n",
       "      <th>Va</th>\n",
       "      <th>Ve</th>\n",
       "      <th>...</th>\n",
       "      <th>IT</th>\n",
       "      <th>Ernedc (g/km)</th>\n",
       "      <th>Erwltp (g/km)</th>\n",
       "      <th>De</th>\n",
       "      <th>Vf</th>\n",
       "      <th>Status</th>\n",
       "      <th>year</th>\n",
       "      <th>Date of registration</th>\n",
       "      <th>Fuel consumption</th>\n",
       "      <th>Electric range (km)</th>\n",
       "    </tr>\n",
       "    <tr>\n",
       "      <th>ID</th>\n",
       "      <th></th>\n",
       "      <th></th>\n",
       "      <th></th>\n",
       "      <th></th>\n",
       "      <th></th>\n",
       "      <th></th>\n",
       "      <th></th>\n",
       "      <th></th>\n",
       "      <th></th>\n",
       "      <th></th>\n",
       "      <th></th>\n",
       "      <th></th>\n",
       "      <th></th>\n",
       "      <th></th>\n",
       "      <th></th>\n",
       "      <th></th>\n",
       "      <th></th>\n",
       "      <th></th>\n",
       "      <th></th>\n",
       "      <th></th>\n",
       "      <th></th>\n",
       "    </tr>\n",
       "  </thead>\n",
       "  <tbody>\n",
       "    <tr>\n",
       "      <th>77798939</th>\n",
       "      <td>FR</td>\n",
       "      <td>IP-DGY____EAT82552-VR3-0</td>\n",
       "      <td>STELLANTIS</td>\n",
       "      <td>PSA</td>\n",
       "      <td>PSA AUTOMOBILES SA</td>\n",
       "      <td>NaN</td>\n",
       "      <td>e9*2018/858*11066*03</td>\n",
       "      <td>N</td>\n",
       "      <td>D</td>\n",
       "      <td>DGYP-A1C000</td>\n",
       "      <td>...</td>\n",
       "      <td>NaN</td>\n",
       "      <td>NaN</td>\n",
       "      <td>NaN</td>\n",
       "      <td>NaN</td>\n",
       "      <td>NaN</td>\n",
       "      <td>P</td>\n",
       "      <td>2022</td>\n",
       "      <td>2022-12-30</td>\n",
       "      <td>1.3</td>\n",
       "      <td>59.0</td>\n",
       "    </tr>\n",
       "    <tr>\n",
       "      <th>77798940</th>\n",
       "      <td>FR</td>\n",
       "      <td>IP-DGY____EAT82552-VR3-0</td>\n",
       "      <td>STELLANTIS</td>\n",
       "      <td>PSA</td>\n",
       "      <td>PSA AUTOMOBILES SA</td>\n",
       "      <td>NaN</td>\n",
       "      <td>e9*2018/858*11066*03</td>\n",
       "      <td>N</td>\n",
       "      <td>D</td>\n",
       "      <td>DGYP-A1C000</td>\n",
       "      <td>...</td>\n",
       "      <td>NaN</td>\n",
       "      <td>NaN</td>\n",
       "      <td>NaN</td>\n",
       "      <td>NaN</td>\n",
       "      <td>NaN</td>\n",
       "      <td>P</td>\n",
       "      <td>2022</td>\n",
       "      <td>2022-10-27</td>\n",
       "      <td>1.3</td>\n",
       "      <td>60.0</td>\n",
       "    </tr>\n",
       "    <tr>\n",
       "      <th>77798941</th>\n",
       "      <td>FR</td>\n",
       "      <td>IP-DGY____EAT82552-VR3-0</td>\n",
       "      <td>STELLANTIS</td>\n",
       "      <td>PSA</td>\n",
       "      <td>PSA AUTOMOBILES SA</td>\n",
       "      <td>NaN</td>\n",
       "      <td>e9*2018/858*11066*03</td>\n",
       "      <td>N</td>\n",
       "      <td>D</td>\n",
       "      <td>DGYP-A1C000</td>\n",
       "      <td>...</td>\n",
       "      <td>NaN</td>\n",
       "      <td>NaN</td>\n",
       "      <td>NaN</td>\n",
       "      <td>NaN</td>\n",
       "      <td>NaN</td>\n",
       "      <td>P</td>\n",
       "      <td>2022</td>\n",
       "      <td>2022-10-31</td>\n",
       "      <td>1.3</td>\n",
       "      <td>59.0</td>\n",
       "    </tr>\n",
       "    <tr>\n",
       "      <th>77798942</th>\n",
       "      <td>FR</td>\n",
       "      <td>IP-DGY____EAT82552-VR3-0</td>\n",
       "      <td>STELLANTIS</td>\n",
       "      <td>PSA</td>\n",
       "      <td>PSA AUTOMOBILES SA</td>\n",
       "      <td>NaN</td>\n",
       "      <td>e9*2018/858*11066*03</td>\n",
       "      <td>N</td>\n",
       "      <td>D</td>\n",
       "      <td>DGYP-A1C000</td>\n",
       "      <td>...</td>\n",
       "      <td>NaN</td>\n",
       "      <td>NaN</td>\n",
       "      <td>NaN</td>\n",
       "      <td>NaN</td>\n",
       "      <td>NaN</td>\n",
       "      <td>P</td>\n",
       "      <td>2022</td>\n",
       "      <td>2022-11-30</td>\n",
       "      <td>1.3</td>\n",
       "      <td>59.0</td>\n",
       "    </tr>\n",
       "    <tr>\n",
       "      <th>77798943</th>\n",
       "      <td>FR</td>\n",
       "      <td>IP-DGY____EAT82552-VR3-0</td>\n",
       "      <td>STELLANTIS</td>\n",
       "      <td>PSA</td>\n",
       "      <td>PSA AUTOMOBILES SA</td>\n",
       "      <td>NaN</td>\n",
       "      <td>e9*2018/858*11066*03</td>\n",
       "      <td>N</td>\n",
       "      <td>D</td>\n",
       "      <td>DGYP-A1C000</td>\n",
       "      <td>...</td>\n",
       "      <td>NaN</td>\n",
       "      <td>NaN</td>\n",
       "      <td>NaN</td>\n",
       "      <td>NaN</td>\n",
       "      <td>NaN</td>\n",
       "      <td>P</td>\n",
       "      <td>2022</td>\n",
       "      <td>2022-10-27</td>\n",
       "      <td>1.3</td>\n",
       "      <td>60.0</td>\n",
       "    </tr>\n",
       "  </tbody>\n",
       "</table>\n",
       "<p>5 rows × 37 columns</p>\n",
       "</div>"
      ],
      "text/plain": [
       "         Country                       VFN          Mp   Mh  \\\n",
       "ID                                                            \n",
       "77798939      FR  IP-DGY____EAT82552-VR3-0  STELLANTIS  PSA   \n",
       "77798940      FR  IP-DGY____EAT82552-VR3-0  STELLANTIS  PSA   \n",
       "77798941      FR  IP-DGY____EAT82552-VR3-0  STELLANTIS  PSA   \n",
       "77798942      FR  IP-DGY____EAT82552-VR3-0  STELLANTIS  PSA   \n",
       "77798943      FR  IP-DGY____EAT82552-VR3-0  STELLANTIS  PSA   \n",
       "\n",
       "                         Man  MMS                   Tan  T Va           Ve  \\\n",
       "ID                                                                           \n",
       "77798939  PSA AUTOMOBILES SA  NaN  e9*2018/858*11066*03  N  D  DGYP-A1C000   \n",
       "77798940  PSA AUTOMOBILES SA  NaN  e9*2018/858*11066*03  N  D  DGYP-A1C000   \n",
       "77798941  PSA AUTOMOBILES SA  NaN  e9*2018/858*11066*03  N  D  DGYP-A1C000   \n",
       "77798942  PSA AUTOMOBILES SA  NaN  e9*2018/858*11066*03  N  D  DGYP-A1C000   \n",
       "77798943  PSA AUTOMOBILES SA  NaN  e9*2018/858*11066*03  N  D  DGYP-A1C000   \n",
       "\n",
       "          ...   IT Ernedc (g/km) Erwltp (g/km)  De  Vf  Status  year  \\\n",
       "ID        ...                                                          \n",
       "77798939  ...  NaN           NaN           NaN NaN NaN       P  2022   \n",
       "77798940  ...  NaN           NaN           NaN NaN NaN       P  2022   \n",
       "77798941  ...  NaN           NaN           NaN NaN NaN       P  2022   \n",
       "77798942  ...  NaN           NaN           NaN NaN NaN       P  2022   \n",
       "77798943  ...  NaN           NaN           NaN NaN NaN       P  2022   \n",
       "\n",
       "          Date of registration  Fuel consumption   Electric range (km)  \n",
       "ID                                                                      \n",
       "77798939            2022-12-30                1.3                 59.0  \n",
       "77798940            2022-10-27                1.3                 60.0  \n",
       "77798941            2022-10-31                1.3                 59.0  \n",
       "77798942            2022-11-30                1.3                 59.0  \n",
       "77798943            2022-10-27                1.3                 60.0  \n",
       "\n",
       "[5 rows x 37 columns]"
      ]
     },
     "execution_count": 50,
     "metadata": {},
     "output_type": "execute_result"
    }
   ],
   "source": [
    "df.head()"
   ]
  },
  {
   "cell_type": "markdown",
   "id": "4050d00b",
   "metadata": {},
   "source": [
    "## Suppression de colonnes vides, inutiles pour l'analyse, constantes..."
   ]
  },
  {
   "cell_type": "code",
   "execution_count": 51,
   "id": "7eb6141a-ccc3-4e76-8850-950ecbe3ddee",
   "metadata": {},
   "outputs": [],
   "source": [
    "df = df.drop(['MMS','Ernedc (g/km)', 'De', 'Vf'], axis=1)"
   ]
  },
  {
   "cell_type": "code",
   "execution_count": 52,
   "id": "323e05e3-50ff-4c43-a779-b64dc188e95f",
   "metadata": {},
   "outputs": [],
   "source": [
    "df=df.drop(['Country','Status','VFN','Mp','Mh','Man','Mk','Cn', 'Tan','T','Va','Ve','IT','Date of registration','Ct','Erwltp (g/km)',],axis=1)"
   ]
  },
  {
   "cell_type": "code",
   "execution_count": 53,
   "id": "44dd35cf-a46c-407d-9603-0cd810864639",
   "metadata": {},
   "outputs": [],
   "source": [
    "df = df.drop(['Enedc (g/km)'], axis=1)"
   ]
  },
  {
   "cell_type": "code",
   "execution_count": 54,
   "id": "b0a328b4-7f0f-43ed-986b-ef2178a97698",
   "metadata": {},
   "outputs": [],
   "source": [
    "df = df.drop(['r', 'year'], axis=1)"
   ]
  },
  {
   "cell_type": "code",
   "execution_count": 55,
   "id": "5902596e-cc52-46cd-9811-9744cf08d0bb",
   "metadata": {
    "scrolled": true
   },
   "outputs": [
    {
     "data": {
      "text/html": [
       "<div>\n",
       "<style scoped>\n",
       "    .dataframe tbody tr th:only-of-type {\n",
       "        vertical-align: middle;\n",
       "    }\n",
       "\n",
       "    .dataframe tbody tr th {\n",
       "        vertical-align: top;\n",
       "    }\n",
       "\n",
       "    .dataframe thead th {\n",
       "        text-align: right;\n",
       "    }\n",
       "</style>\n",
       "<table border=\"1\" class=\"dataframe\">\n",
       "  <thead>\n",
       "    <tr style=\"text-align: right;\">\n",
       "      <th></th>\n",
       "      <th>Cr</th>\n",
       "      <th>m (kg)</th>\n",
       "      <th>Mt</th>\n",
       "      <th>Ewltp (g/km)</th>\n",
       "      <th>W (mm)</th>\n",
       "      <th>At1 (mm)</th>\n",
       "      <th>At2 (mm)</th>\n",
       "      <th>Ft</th>\n",
       "      <th>Fm</th>\n",
       "      <th>ec (cm3)</th>\n",
       "      <th>ep (KW)</th>\n",
       "      <th>z (Wh/km)</th>\n",
       "      <th>Fuel consumption</th>\n",
       "      <th>Electric range (km)</th>\n",
       "    </tr>\n",
       "    <tr>\n",
       "      <th>ID</th>\n",
       "      <th></th>\n",
       "      <th></th>\n",
       "      <th></th>\n",
       "      <th></th>\n",
       "      <th></th>\n",
       "      <th></th>\n",
       "      <th></th>\n",
       "      <th></th>\n",
       "      <th></th>\n",
       "      <th></th>\n",
       "      <th></th>\n",
       "      <th></th>\n",
       "      <th></th>\n",
       "      <th></th>\n",
       "    </tr>\n",
       "  </thead>\n",
       "  <tbody>\n",
       "    <tr>\n",
       "      <th>77798939</th>\n",
       "      <td>M1</td>\n",
       "      <td>1797</td>\n",
       "      <td>1888</td>\n",
       "      <td>30</td>\n",
       "      <td>2785</td>\n",
       "      <td>1600</td>\n",
       "      <td>1605</td>\n",
       "      <td>PETROL/ELECTRIC</td>\n",
       "      <td>P</td>\n",
       "      <td>1598.0</td>\n",
       "      <td>132</td>\n",
       "      <td>159.0</td>\n",
       "      <td>1.3</td>\n",
       "      <td>59.0</td>\n",
       "    </tr>\n",
       "    <tr>\n",
       "      <th>77798940</th>\n",
       "      <td>M1</td>\n",
       "      <td>1797</td>\n",
       "      <td>1876</td>\n",
       "      <td>29</td>\n",
       "      <td>2785</td>\n",
       "      <td>1600</td>\n",
       "      <td>1605</td>\n",
       "      <td>PETROL/ELECTRIC</td>\n",
       "      <td>P</td>\n",
       "      <td>1598.0</td>\n",
       "      <td>132</td>\n",
       "      <td>159.0</td>\n",
       "      <td>1.3</td>\n",
       "      <td>60.0</td>\n",
       "    </tr>\n",
       "    <tr>\n",
       "      <th>77798941</th>\n",
       "      <td>M1</td>\n",
       "      <td>1797</td>\n",
       "      <td>1886</td>\n",
       "      <td>30</td>\n",
       "      <td>2785</td>\n",
       "      <td>1600</td>\n",
       "      <td>1605</td>\n",
       "      <td>PETROL/ELECTRIC</td>\n",
       "      <td>P</td>\n",
       "      <td>1598.0</td>\n",
       "      <td>132</td>\n",
       "      <td>159.0</td>\n",
       "      <td>1.3</td>\n",
       "      <td>59.0</td>\n",
       "    </tr>\n",
       "    <tr>\n",
       "      <th>77798942</th>\n",
       "      <td>M1</td>\n",
       "      <td>1797</td>\n",
       "      <td>1895</td>\n",
       "      <td>30</td>\n",
       "      <td>2785</td>\n",
       "      <td>1600</td>\n",
       "      <td>1605</td>\n",
       "      <td>PETROL/ELECTRIC</td>\n",
       "      <td>P</td>\n",
       "      <td>1598.0</td>\n",
       "      <td>132</td>\n",
       "      <td>159.0</td>\n",
       "      <td>1.3</td>\n",
       "      <td>59.0</td>\n",
       "    </tr>\n",
       "    <tr>\n",
       "      <th>77798943</th>\n",
       "      <td>M1</td>\n",
       "      <td>1797</td>\n",
       "      <td>1874</td>\n",
       "      <td>29</td>\n",
       "      <td>2785</td>\n",
       "      <td>1600</td>\n",
       "      <td>1605</td>\n",
       "      <td>PETROL/ELECTRIC</td>\n",
       "      <td>P</td>\n",
       "      <td>1598.0</td>\n",
       "      <td>132</td>\n",
       "      <td>159.0</td>\n",
       "      <td>1.3</td>\n",
       "      <td>60.0</td>\n",
       "    </tr>\n",
       "  </tbody>\n",
       "</table>\n",
       "</div>"
      ],
      "text/plain": [
       "          Cr  m (kg)    Mt  Ewltp (g/km)  W (mm)  At1 (mm)  At2 (mm)  \\\n",
       "ID                                                                     \n",
       "77798939  M1    1797  1888            30    2785      1600      1605   \n",
       "77798940  M1    1797  1876            29    2785      1600      1605   \n",
       "77798941  M1    1797  1886            30    2785      1600      1605   \n",
       "77798942  M1    1797  1895            30    2785      1600      1605   \n",
       "77798943  M1    1797  1874            29    2785      1600      1605   \n",
       "\n",
       "                       Ft Fm  ec (cm3)  ep (KW)  z (Wh/km)  Fuel consumption   \\\n",
       "ID                                                                              \n",
       "77798939  PETROL/ELECTRIC  P    1598.0      132      159.0                1.3   \n",
       "77798940  PETROL/ELECTRIC  P    1598.0      132      159.0                1.3   \n",
       "77798941  PETROL/ELECTRIC  P    1598.0      132      159.0                1.3   \n",
       "77798942  PETROL/ELECTRIC  P    1598.0      132      159.0                1.3   \n",
       "77798943  PETROL/ELECTRIC  P    1598.0      132      159.0                1.3   \n",
       "\n",
       "          Electric range (km)  \n",
       "ID                             \n",
       "77798939                 59.0  \n",
       "77798940                 60.0  \n",
       "77798941                 59.0  \n",
       "77798942                 59.0  \n",
       "77798943                 60.0  "
      ]
     },
     "execution_count": 55,
     "metadata": {},
     "output_type": "execute_result"
    }
   ],
   "source": [
    "df.head()"
   ]
  },
  {
   "cell_type": "markdown",
   "id": "c4cdfd67",
   "metadata": {},
   "source": [
    "## Suppression des véhicules avec motorisation électrique car ils n'émettent pas de C02"
   ]
  },
  {
   "cell_type": "code",
   "execution_count": 56,
   "id": "071713b2-6d54-4811-bedc-c72e4caef4cd",
   "metadata": {},
   "outputs": [],
   "source": [
    "df=df[(df['Ft']!='ELECTRIC') & (df['Ft']!='HYDROGEN')]"
   ]
  },
  {
   "cell_type": "code",
   "execution_count": 57,
   "id": "74c245af-f5d8-47bd-8a03-a70262c20283",
   "metadata": {},
   "outputs": [
    {
     "data": {
      "text/plain": [
       "PETROL             915122\n",
       "DIESEL             301588\n",
       "PETROL/ELECTRIC    122421\n",
       "LPG                 46937\n",
       "E85                 35876\n",
       "DIESEL/ELECTRIC      6241\n",
       "NG                    132\n",
       "Name: Ft, dtype: int64"
      ]
     },
     "execution_count": 57,
     "metadata": {},
     "output_type": "execute_result"
    }
   ],
   "source": [
    "df['Ft'].value_counts()"
   ]
  },
  {
   "cell_type": "markdown",
   "id": "0454486a",
   "metadata": {},
   "source": [
    "### Suppression des valeurs dupliquées"
   ]
  },
  {
   "cell_type": "code",
   "execution_count": 58,
   "id": "db7cc077-4859-43fd-8fde-c74ba506a9ef",
   "metadata": {},
   "outputs": [
    {
     "data": {
      "text/plain": [
       "1333323"
      ]
     },
     "execution_count": 58,
     "metadata": {},
     "output_type": "execute_result"
    }
   ],
   "source": [
    "df.duplicated().sum()"
   ]
  },
  {
   "cell_type": "code",
   "execution_count": 59,
   "id": "ba2fc49c-2135-47f4-9f8a-c09c98e651e5",
   "metadata": {},
   "outputs": [],
   "source": [
    "df.drop_duplicates(inplace=True)"
   ]
  },
  {
   "cell_type": "code",
   "execution_count": 60,
   "id": "7789102a-f54d-4832-9575-ebce5a88068f",
   "metadata": {},
   "outputs": [
    {
     "name": "stdout",
     "output_type": "stream",
     "text": [
      "<class 'pandas.core.frame.DataFrame'>\n",
      "Int64Index: 94994 entries, 77798939 to 77955102\n",
      "Data columns (total 14 columns):\n",
      " #   Column               Non-Null Count  Dtype  \n",
      "---  ------               --------------  -----  \n",
      " 0   Cr                   94994 non-null  object \n",
      " 1   m (kg)               94994 non-null  int64  \n",
      " 2   Mt                   94994 non-null  int64  \n",
      " 3   Ewltp (g/km)         94994 non-null  int64  \n",
      " 4   W (mm)               94994 non-null  int64  \n",
      " 5   At1 (mm)             94994 non-null  int64  \n",
      " 6   At2 (mm)             94994 non-null  int64  \n",
      " 7   Ft                   94994 non-null  object \n",
      " 8   Fm                   94994 non-null  object \n",
      " 9   ec (cm3)             94994 non-null  float64\n",
      " 10  ep (KW)              94994 non-null  int64  \n",
      " 11  z (Wh/km)            20145 non-null  float64\n",
      " 12  Fuel consumption     94994 non-null  float64\n",
      " 13  Electric range (km)  20145 non-null  float64\n",
      "dtypes: float64(4), int64(7), object(3)\n",
      "memory usage: 10.9+ MB\n"
     ]
    }
   ],
   "source": [
    "df.info()"
   ]
  },
  {
   "cell_type": "markdown",
   "id": "b487489b",
   "metadata": {},
   "source": [
    "## Visualisation de données"
   ]
  },
  {
   "cell_type": "code",
   "execution_count": 61,
   "id": "2a4dbaa7-7fe8-4cac-9050-fc51cda07f50",
   "metadata": {},
   "outputs": [],
   "source": [
    "import matplotlib.pyplot as plt\n",
    "import seaborn as sns"
   ]
  },
  {
   "cell_type": "code",
   "execution_count": 62,
   "id": "3f015432-bd56-4f79-b50f-4d3da5d13448",
   "metadata": {},
   "outputs": [],
   "source": [
    "df=df.rename({'Ewltp (g/km)':'CO2'}, axis=1)"
   ]
  },
  {
   "cell_type": "code",
   "execution_count": 63,
   "id": "bf8f4824-95f3-4ade-ad2f-12b2c7b411fa",
   "metadata": {},
   "outputs": [
    {
     "data": {
      "image/png": "[encoded data removed]",
      "text/plain": [
       "<Figure size 360x360 with 1 Axes>"
      ]
     },
     "metadata": {
      "needs_background": "light"
     },
     "output_type": "display_data"
    }
   ],
   "source": [
    "sns.catplot(y='CO2', data=df, kind='box')\n",
    "plt.title('Répartion de la variable CO2');"
   ]
  },
  {
   "cell_type": "code",
   "execution_count": 64,
   "id": "8a89acae",
   "metadata": {},
   "outputs": [
    {
     "name": "stderr",
     "output_type": "stream",
     "text": [
      "C:\\Users\\myco\\anaconda3\\lib\\site-packages\\seaborn\\_decorators.py:36: FutureWarning: Pass the following variable as a keyword arg: x. From version 0.12, the only valid positional argument will be `data`, and passing other arguments without an explicit keyword will result in an error or misinterpretation.\n",
      "  warnings.warn(\n"
     ]
    },
    {
     "data": {
      "image/png": "[encoded data removed]",
      "text/plain": [
       "<Figure size 432x288 with 1 Axes>"
      ]
     },
     "metadata": {
      "needs_background": "light"
     },
     "output_type": "display_data"
    }
   ],
   "source": [
    "sns.countplot(df['Ft'])\n",
    "plt.title('Distribution de la variable correspondant au type de carburant')\n",
    "plt.xticks(rotation=70);"
   ]
  },
  {
   "cell_type": "code",
   "execution_count": 18,
   "id": "ae28ed8f-01e0-42e6-b10a-a3dce995070c",
   "metadata": {},
   "outputs": [
    {
     "data": {
      "image/png": "[encoded data removed]",
      "text/plain": [
       "<Figure size 360x360 with 1 Axes>"
      ]
     },
     "metadata": {
      "needs_background": "light"
     },
     "output_type": "display_data"
    }
   ],
   "source": [
    "sns.catplot(x='Ft', y='CO2',data=df,kind='box')\n",
    "plt.title('Répartition de la variable C02 en fonction du type de carburant')\n",
    "plt.xlabel('Type de carburant')\n",
    "plt.xticks(rotation=70, fontsize=\"small\");"
   ]
  },
  {
   "cell_type": "code",
   "execution_count": 76,
   "id": "27ffd199-d75d-4fd2-85ff-c1ab475865ac",
   "metadata": {},
   "outputs": [
    {
     "data": {
      "text/html": [
       "<div>\n",
       "<style scoped>\n",
       "    .dataframe tbody tr th:only-of-type {\n",
       "        vertical-align: middle;\n",
       "    }\n",
       "\n",
       "    .dataframe tbody tr th {\n",
       "        vertical-align: top;\n",
       "    }\n",
       "\n",
       "    .dataframe thead th {\n",
       "        text-align: right;\n",
       "    }\n",
       "</style>\n",
       "<table border=\"1\" class=\"dataframe\">\n",
       "  <thead>\n",
       "    <tr style=\"text-align: right;\">\n",
       "      <th></th>\n",
       "      <th>df</th>\n",
       "      <th>sum_sq</th>\n",
       "      <th>mean_sq</th>\n",
       "      <th>F</th>\n",
       "      <th>PR(&gt;F)</th>\n",
       "    </tr>\n",
       "  </thead>\n",
       "  <tbody>\n",
       "    <tr>\n",
       "      <th>Ft</th>\n",
       "      <td>4.0</td>\n",
       "      <td>6.669239e+05</td>\n",
       "      <td>166730.964008</td>\n",
       "      <td>261.417969</td>\n",
       "      <td>1.659581e-223</td>\n",
       "    </tr>\n",
       "    <tr>\n",
       "      <th>Residual</th>\n",
       "      <td>74844.0</td>\n",
       "      <td>4.773510e+07</td>\n",
       "      <td>637.794582</td>\n",
       "      <td>NaN</td>\n",
       "      <td>NaN</td>\n",
       "    </tr>\n",
       "  </tbody>\n",
       "</table>\n",
       "</div>"
      ],
      "text/plain": [
       "               df        sum_sq        mean_sq           F         PR(>F)\n",
       "Ft            4.0  6.669239e+05  166730.964008  261.417969  1.659581e-223\n",
       "Residual  74844.0  4.773510e+07     637.794582         NaN            NaN"
      ]
     },
     "metadata": {},
     "output_type": "display_data"
    }
   ],
   "source": [
    "#Test ANOVA H0 : pas de significativité\n",
    "import statsmodels.api\n",
    "result = statsmodels.formula.api.ols('CO2 ~ Ft', data=df).fit()\n",
    "table=statsmodels.api.stats.anova_lm(result)\n",
    "display(table)\n",
    "#On rejette H0, il y a une influence significative"
   ]
  },
  {
   "cell_type": "code",
   "execution_count": 23,
   "id": "7b08294c-1530-4d29-8c7b-25bec2317dba",
   "metadata": {},
   "outputs": [
    {
     "data": {
      "image/png": "[encoded data removed]",
      "text/plain": [
       "<Figure size 360x360 with 1 Axes>"
      ]
     },
     "metadata": {
      "needs_background": "light"
     },
     "output_type": "display_data"
    }
   ],
   "source": [
    "sns.catplot(x='Cr', y='CO2', data=df, kind='box')\n",
    "plt.title('Répartition de la variable CO2 en fonction de la catégorie du véhicule')\n",
    "plt.xlabel('Catégorie du véhicule');"
   ]
  },
  {
   "cell_type": "code",
   "execution_count": 79,
   "id": "99ddcaad-798e-4b96-9226-5f73ed8bab7b",
   "metadata": {},
   "outputs": [
    {
     "data": {
      "text/html": [
       "<div>\n",
       "<style scoped>\n",
       "    .dataframe tbody tr th:only-of-type {\n",
       "        vertical-align: middle;\n",
       "    }\n",
       "\n",
       "    .dataframe tbody tr th {\n",
       "        vertical-align: top;\n",
       "    }\n",
       "\n",
       "    .dataframe thead th {\n",
       "        text-align: right;\n",
       "    }\n",
       "</style>\n",
       "<table border=\"1\" class=\"dataframe\">\n",
       "  <thead>\n",
       "    <tr style=\"text-align: right;\">\n",
       "      <th></th>\n",
       "      <th>df</th>\n",
       "      <th>sum_sq</th>\n",
       "      <th>mean_sq</th>\n",
       "      <th>F</th>\n",
       "      <th>PR(&gt;F)</th>\n",
       "    </tr>\n",
       "  </thead>\n",
       "  <tbody>\n",
       "    <tr>\n",
       "      <th>Cr</th>\n",
       "      <td>1.0</td>\n",
       "      <td>6.676778e+06</td>\n",
       "      <td>6.676778e+06</td>\n",
       "      <td>11976.845289</td>\n",
       "      <td>0.0</td>\n",
       "    </tr>\n",
       "    <tr>\n",
       "      <th>Residual</th>\n",
       "      <td>74847.0</td>\n",
       "      <td>4.172524e+07</td>\n",
       "      <td>5.574738e+02</td>\n",
       "      <td>NaN</td>\n",
       "      <td>NaN</td>\n",
       "    </tr>\n",
       "  </tbody>\n",
       "</table>\n",
       "</div>"
      ],
      "text/plain": [
       "               df        sum_sq       mean_sq             F  PR(>F)\n",
       "Cr            1.0  6.676778e+06  6.676778e+06  11976.845289     0.0\n",
       "Residual  74847.0  4.172524e+07  5.574738e+02           NaN     NaN"
      ]
     },
     "metadata": {},
     "output_type": "display_data"
    }
   ],
   "source": [
    "#Test ANOVA H0 : pas de significativité\n",
    "import statsmodels.api\n",
    "result = statsmodels.formula.api.ols('CO2 ~ Cr', data=df).fit()\n",
    "table=statsmodels.api.stats.anova_lm(result)\n",
    "display(table)\n",
    "#On rejette H0, il y a une influence significative"
   ]
  },
  {
   "cell_type": "markdown",
   "id": "ffce5e47-fccb-490b-8481-c18b5cf8cb29",
   "metadata": {},
   "source": [
    "##CO2 en fonction du mode carburant"
   ]
  },
  {
   "cell_type": "code",
   "execution_count": 24,
   "id": "3ce83886-94ce-46ea-b09b-560e17774719",
   "metadata": {},
   "outputs": [
    {
     "data": {
      "image/png": "[encoded data removed]",
      "text/plain": [
       "<Figure size 360x360 with 1 Axes>"
      ]
     },
     "metadata": {
      "needs_background": "light"
     },
     "output_type": "display_data"
    }
   ],
   "source": [
    "sns.catplot(x='Fm', y='CO2', data=df, kind='box')\n",
    "plt.title('Répartition de la variable CO2 en fonction du mode de carburant')\n",
    "plt.xlabel('Mode de carburant');"
   ]
  },
  {
   "cell_type": "code",
   "execution_count": 50,
   "id": "72cd0fa0-5df9-418a-9ddb-f88bd523f342",
   "metadata": {},
   "outputs": [
    {
     "data": {
      "text/html": [
       "<div>\n",
       "<style scoped>\n",
       "    .dataframe tbody tr th:only-of-type {\n",
       "        vertical-align: middle;\n",
       "    }\n",
       "\n",
       "    .dataframe tbody tr th {\n",
       "        vertical-align: top;\n",
       "    }\n",
       "\n",
       "    .dataframe thead th {\n",
       "        text-align: right;\n",
       "    }\n",
       "</style>\n",
       "<table border=\"1\" class=\"dataframe\">\n",
       "  <thead>\n",
       "    <tr style=\"text-align: right;\">\n",
       "      <th></th>\n",
       "      <th>df</th>\n",
       "      <th>sum_sq</th>\n",
       "      <th>mean_sq</th>\n",
       "      <th>F</th>\n",
       "      <th>PR(&gt;F)</th>\n",
       "    </tr>\n",
       "  </thead>\n",
       "  <tbody>\n",
       "    <tr>\n",
       "      <th>Fm</th>\n",
       "      <td>4.0</td>\n",
       "      <td>1.828720e+08</td>\n",
       "      <td>4.571801e+07</td>\n",
       "      <td>82849.683463</td>\n",
       "      <td>0.0</td>\n",
       "    </tr>\n",
       "    <tr>\n",
       "      <th>Residual</th>\n",
       "      <td>94989.0</td>\n",
       "      <td>5.241671e+07</td>\n",
       "      <td>5.518187e+02</td>\n",
       "      <td>NaN</td>\n",
       "      <td>NaN</td>\n",
       "    </tr>\n",
       "  </tbody>\n",
       "</table>\n",
       "</div>"
      ],
      "text/plain": [
       "               df        sum_sq       mean_sq             F  PR(>F)\n",
       "Fm            4.0  1.828720e+08  4.571801e+07  82849.683463     0.0\n",
       "Residual  94989.0  5.241671e+07  5.518187e+02           NaN     NaN"
      ]
     },
     "metadata": {},
     "output_type": "display_data"
    }
   ],
   "source": [
    "#Test de significativité\n",
    "#Test ANOVA H0 : pas de significativité\n",
    "import statsmodels.api\n",
    "result = statsmodels.formula.api.ols('CO2 ~ Fm', data=df).fit()\n",
    "table=statsmodels.api.stats.anova_lm(result)\n",
    "display(table)\n",
    "#On rejette H0, il y a une influence significative"
   ]
  },
  {
   "cell_type": "code",
   "execution_count": 84,
   "id": "5fb596f0-afab-40f7-968e-5be23b1e0454",
   "metadata": {},
   "outputs": [],
   "source": [
    "#df_num = df.select_dtypes(include=['int','float'])"
   ]
  },
  {
   "cell_type": "code",
   "execution_count": 26,
   "id": "82658dce-367f-4850-bf61-e79f57975539",
   "metadata": {},
   "outputs": [
    {
     "data": {
      "image/png": "[encoded data removed]",
      "text/plain": [
       "<Figure size 432x288 with 1 Axes>"
      ]
     },
     "metadata": {
      "needs_background": "light"
     },
     "output_type": "display_data"
    }
   ],
   "source": [
    "#émission co2 en fonction de la consommation carburant\n",
    "consommation=df.groupby('Fuel consumption ')['CO2'].mean()\n",
    "plt.plot(consommation)\n",
    "plt.xlabel('Consommation carburant')\n",
    "plt.ylabel('Emission CO2')\n",
    "plt.title('Emission de CO2 en fonction de la consommation de carburant');"
   ]
  },
  {
   "cell_type": "code",
   "execution_count": 52,
   "id": "90d65be1-ac1a-490b-8e41-cc4e7ac253f7",
   "metadata": {},
   "outputs": [
    {
     "data": {
      "text/plain": [
       "PearsonRResult(statistic=0.9799837215657591, pvalue=0.0)"
      ]
     },
     "execution_count": 52,
     "metadata": {},
     "output_type": "execute_result"
    }
   ],
   "source": [
    "#Test de Pearson\n",
    "#H0 : les variables ne sont pas corrélées\n",
    "from scipy.stats import pearsonr\n",
    "pearsonr(df['CO2'],df['Fuel consumption '])\n",
    "#on rejette H0 , il y a significativité"
   ]
  },
  {
   "cell_type": "markdown",
   "id": "9a8860e9-0fb9-4b6c-bf72-2595529e6f1d",
   "metadata": {},
   "source": [
    "####émission CO2 en fonction de la puissance du moteur"
   ]
  },
  {
   "cell_type": "code",
   "execution_count": 32,
   "id": "a0e4d74c",
   "metadata": {},
   "outputs": [
    {
     "name": "stderr",
     "output_type": "stream",
     "text": [
      "C:\\Users\\myco\\anaconda3\\lib\\site-packages\\seaborn\\_decorators.py:36: FutureWarning: Pass the following variables as keyword args: x, y. From version 0.12, the only valid positional argument will be `data`, and passing other arguments without an explicit keyword will result in an error or misinterpretation.\n",
      "  warnings.warn(\n"
     ]
    },
    {
     "data": {
      "image/png": "[encoded data removed]",
      "text/plain": [
       "<Figure size 432x288 with 1 Axes>"
      ]
     },
     "metadata": {
      "needs_background": "light"
     },
     "output_type": "display_data"
    }
   ],
   "source": [
    "sns.scatterplot(df['ep (KW)'], df['CO2'], hue=df['Ft'])\n",
    "plt.title('Emission de CO2 en fonction de la puissance du moteur et du type de carburant')\n",
    "plt.xlabel('Puissance du moteur');"
   ]
  },
  {
   "cell_type": "code",
   "execution_count": 93,
   "id": "2bb8eae8-8771-407c-a08e-a368c8a2d127",
   "metadata": {},
   "outputs": [
    {
     "data": {
      "text/plain": [
       "PearsonRResult(statistic=0.7853731478970354, pvalue=0.0)"
      ]
     },
     "execution_count": 93,
     "metadata": {},
     "output_type": "execute_result"
    }
   ],
   "source": [
    "#Test de Pearson\n",
    "#H0 : les variables ne sont pas corrélées\n",
    "from scipy.stats import pearsonr\n",
    "pearsonr(df['CO2'],df['ep (KW)'])\n",
    "#on rejette H0 , il y a significativité"
   ]
  },
  {
   "cell_type": "code",
   "execution_count": 47,
   "id": "9f907e4d",
   "metadata": {},
   "outputs": [
    {
     "name": "stderr",
     "output_type": "stream",
     "text": [
      "C:\\Users\\myco\\anaconda3\\lib\\site-packages\\seaborn\\_decorators.py:36: FutureWarning: Pass the following variables as keyword args: x, y. From version 0.12, the only valid positional argument will be `data`, and passing other arguments without an explicit keyword will result in an error or misinterpretation.\n",
      "  warnings.warn(\n"
     ]
    },
    {
     "data": {
      "image/png": "[encoded data removed]",
      "text/plain": [
       "<Figure size 432x288 with 1 Axes>"
      ]
     },
     "metadata": {
      "needs_background": "light"
     },
     "output_type": "display_data"
    }
   ],
   "source": [
    "sns.scatterplot(df['m (kg)'], df['CO2'], hue=df['Ft'])\n",
    "plt.title('Emission de CO2 en fonction de la masse du véhicule et du type de carburant')\n",
    "plt.xlabel('Masse du véhicule');"
   ]
  },
  {
   "cell_type": "markdown",
   "id": "3a9e85bd",
   "metadata": {},
   "source": [
    "## Renommer les colonnes"
   ]
  },
  {
   "cell_type": "code",
   "execution_count": 65,
   "id": "7fff4652-89cd-4bb0-83e9-6ea1aad1394c",
   "metadata": {},
   "outputs": [],
   "source": [
    "df=df.rename({'m (kg)':'m', 'W (mm)':'W', 'At1 (mm)':'At1', 'At2 (mm)':'At2', 'ec (cm3)':'ec', 'ep (KW)':'ep','z (Wh/km)':'z','Fuel consumption ':'Fuel_consumption','Electric range (km)':'Electric_range'}, axis=1)"
   ]
  },
  {
   "cell_type": "markdown",
   "id": "ff3975b0",
   "metadata": {},
   "source": [
    "## Valeurs manquantes"
   ]
  },
  {
   "cell_type": "code",
   "execution_count": 66,
   "id": "cd35112e-b9dd-4392-bf08-dcd309ee47da",
   "metadata": {},
   "outputs": [
    {
     "data": {
      "text/plain": [
       "Cr                      0\n",
       "m                       0\n",
       "Mt                      0\n",
       "CO2                     0\n",
       "W                       0\n",
       "At1                     0\n",
       "At2                     0\n",
       "Ft                      0\n",
       "Fm                      0\n",
       "ec                      0\n",
       "ep                      0\n",
       "z                   74849\n",
       "Fuel_consumption        0\n",
       "Electric_range      74849\n",
       "dtype: int64"
      ]
     },
     "execution_count": 66,
     "metadata": {},
     "output_type": "execute_result"
    }
   ],
   "source": [
    "df.isna().sum()"
   ]
  },
  {
   "cell_type": "code",
   "execution_count": 39,
   "id": "3cf3a50f",
   "metadata": {},
   "outputs": [
    {
     "data": {
      "text/plain": [
       "PETROL    40819\n",
       "DIESEL    32445\n",
       "E85        1333\n",
       "LPG         215\n",
       "NG           37\n",
       "Name: Ft, dtype: int64"
      ]
     },
     "execution_count": 39,
     "metadata": {},
     "output_type": "execute_result"
    }
   ],
   "source": [
    "df['Ft'][df['z'].isnull()].value_counts()"
   ]
  },
  {
   "cell_type": "code",
   "execution_count": 40,
   "id": "519372d5",
   "metadata": {},
   "outputs": [
    {
     "data": {
      "text/plain": [
       "PETROL/ELECTRIC    18405\n",
       "DIESEL/ELECTRIC     1740\n",
       "Name: Ft, dtype: int64"
      ]
     },
     "execution_count": 40,
     "metadata": {},
     "output_type": "execute_result"
    }
   ],
   "source": [
    "df['Ft'][~df['z'].isnull()].value_counts()"
   ]
  },
  {
   "cell_type": "code",
   "execution_count": 67,
   "id": "d90baced-4500-4a63-93c0-75b6b16941ad",
   "metadata": {},
   "outputs": [],
   "source": [
    "## Remplacement des valeurs manquantes par 0 car les véhicules thermiques ne consomment pas d'énergie électrique\n",
    "df['z']=df['z'].fillna(0)\n",
    "df['Electric_range']=df['Electric_range'].fillna(0)"
   ]
  },
  {
   "cell_type": "markdown",
   "id": "8a1a5829",
   "metadata": {},
   "source": [
    "## Encodage des variables catégorielles"
   ]
  },
  {
   "cell_type": "code",
   "execution_count": 71,
   "id": "09678373-72fc-4160-b88d-1f84b6c7d174",
   "metadata": {},
   "outputs": [],
   "source": [
    "df_cod = pd.get_dummies(data=df, dtype=int, drop_first=True)"
   ]
  },
  {
   "cell_type": "code",
   "execution_count": 72,
   "id": "2fcaa951-df0e-4d27-891e-443242d00ff2",
   "metadata": {},
   "outputs": [
    {
     "data": {
      "text/html": [
       "<div>\n",
       "<style scoped>\n",
       "    .dataframe tbody tr th:only-of-type {\n",
       "        vertical-align: middle;\n",
       "    }\n",
       "\n",
       "    .dataframe tbody tr th {\n",
       "        vertical-align: top;\n",
       "    }\n",
       "\n",
       "    .dataframe thead th {\n",
       "        text-align: right;\n",
       "    }\n",
       "</style>\n",
       "<table border=\"1\" class=\"dataframe\">\n",
       "  <thead>\n",
       "    <tr style=\"text-align: right;\">\n",
       "      <th></th>\n",
       "      <th>m</th>\n",
       "      <th>Mt</th>\n",
       "      <th>CO2</th>\n",
       "      <th>W</th>\n",
       "      <th>At1</th>\n",
       "      <th>At2</th>\n",
       "      <th>ec</th>\n",
       "      <th>ep</th>\n",
       "      <th>z</th>\n",
       "      <th>Fuel_consumption</th>\n",
       "      <th>...</th>\n",
       "      <th>Ft_DIESEL/ELECTRIC</th>\n",
       "      <th>Ft_E85</th>\n",
       "      <th>Ft_LPG</th>\n",
       "      <th>Ft_NG</th>\n",
       "      <th>Ft_PETROL</th>\n",
       "      <th>Ft_PETROL/ELECTRIC</th>\n",
       "      <th>Fm_F</th>\n",
       "      <th>Fm_H</th>\n",
       "      <th>Fm_M</th>\n",
       "      <th>Fm_P</th>\n",
       "    </tr>\n",
       "    <tr>\n",
       "      <th>ID</th>\n",
       "      <th></th>\n",
       "      <th></th>\n",
       "      <th></th>\n",
       "      <th></th>\n",
       "      <th></th>\n",
       "      <th></th>\n",
       "      <th></th>\n",
       "      <th></th>\n",
       "      <th></th>\n",
       "      <th></th>\n",
       "      <th></th>\n",
       "      <th></th>\n",
       "      <th></th>\n",
       "      <th></th>\n",
       "      <th></th>\n",
       "      <th></th>\n",
       "      <th></th>\n",
       "      <th></th>\n",
       "      <th></th>\n",
       "      <th></th>\n",
       "      <th></th>\n",
       "    </tr>\n",
       "  </thead>\n",
       "  <tbody>\n",
       "    <tr>\n",
       "      <th>77798939</th>\n",
       "      <td>1797</td>\n",
       "      <td>1888</td>\n",
       "      <td>30</td>\n",
       "      <td>2785</td>\n",
       "      <td>1600</td>\n",
       "      <td>1605</td>\n",
       "      <td>1598.0</td>\n",
       "      <td>132</td>\n",
       "      <td>159.0</td>\n",
       "      <td>1.3</td>\n",
       "      <td>...</td>\n",
       "      <td>0</td>\n",
       "      <td>0</td>\n",
       "      <td>0</td>\n",
       "      <td>0</td>\n",
       "      <td>0</td>\n",
       "      <td>1</td>\n",
       "      <td>0</td>\n",
       "      <td>0</td>\n",
       "      <td>0</td>\n",
       "      <td>1</td>\n",
       "    </tr>\n",
       "    <tr>\n",
       "      <th>77798940</th>\n",
       "      <td>1797</td>\n",
       "      <td>1876</td>\n",
       "      <td>29</td>\n",
       "      <td>2785</td>\n",
       "      <td>1600</td>\n",
       "      <td>1605</td>\n",
       "      <td>1598.0</td>\n",
       "      <td>132</td>\n",
       "      <td>159.0</td>\n",
       "      <td>1.3</td>\n",
       "      <td>...</td>\n",
       "      <td>0</td>\n",
       "      <td>0</td>\n",
       "      <td>0</td>\n",
       "      <td>0</td>\n",
       "      <td>0</td>\n",
       "      <td>1</td>\n",
       "      <td>0</td>\n",
       "      <td>0</td>\n",
       "      <td>0</td>\n",
       "      <td>1</td>\n",
       "    </tr>\n",
       "    <tr>\n",
       "      <th>77798941</th>\n",
       "      <td>1797</td>\n",
       "      <td>1886</td>\n",
       "      <td>30</td>\n",
       "      <td>2785</td>\n",
       "      <td>1600</td>\n",
       "      <td>1605</td>\n",
       "      <td>1598.0</td>\n",
       "      <td>132</td>\n",
       "      <td>159.0</td>\n",
       "      <td>1.3</td>\n",
       "      <td>...</td>\n",
       "      <td>0</td>\n",
       "      <td>0</td>\n",
       "      <td>0</td>\n",
       "      <td>0</td>\n",
       "      <td>0</td>\n",
       "      <td>1</td>\n",
       "      <td>0</td>\n",
       "      <td>0</td>\n",
       "      <td>0</td>\n",
       "      <td>1</td>\n",
       "    </tr>\n",
       "    <tr>\n",
       "      <th>77798942</th>\n",
       "      <td>1797</td>\n",
       "      <td>1895</td>\n",
       "      <td>30</td>\n",
       "      <td>2785</td>\n",
       "      <td>1600</td>\n",
       "      <td>1605</td>\n",
       "      <td>1598.0</td>\n",
       "      <td>132</td>\n",
       "      <td>159.0</td>\n",
       "      <td>1.3</td>\n",
       "      <td>...</td>\n",
       "      <td>0</td>\n",
       "      <td>0</td>\n",
       "      <td>0</td>\n",
       "      <td>0</td>\n",
       "      <td>0</td>\n",
       "      <td>1</td>\n",
       "      <td>0</td>\n",
       "      <td>0</td>\n",
       "      <td>0</td>\n",
       "      <td>1</td>\n",
       "    </tr>\n",
       "    <tr>\n",
       "      <th>77798943</th>\n",
       "      <td>1797</td>\n",
       "      <td>1874</td>\n",
       "      <td>29</td>\n",
       "      <td>2785</td>\n",
       "      <td>1600</td>\n",
       "      <td>1605</td>\n",
       "      <td>1598.0</td>\n",
       "      <td>132</td>\n",
       "      <td>159.0</td>\n",
       "      <td>1.3</td>\n",
       "      <td>...</td>\n",
       "      <td>0</td>\n",
       "      <td>0</td>\n",
       "      <td>0</td>\n",
       "      <td>0</td>\n",
       "      <td>0</td>\n",
       "      <td>1</td>\n",
       "      <td>0</td>\n",
       "      <td>0</td>\n",
       "      <td>0</td>\n",
       "      <td>1</td>\n",
       "    </tr>\n",
       "  </tbody>\n",
       "</table>\n",
       "<p>5 rows × 22 columns</p>\n",
       "</div>"
      ],
      "text/plain": [
       "             m    Mt  CO2     W   At1   At2      ec   ep      z  \\\n",
       "ID                                                                \n",
       "77798939  1797  1888   30  2785  1600  1605  1598.0  132  159.0   \n",
       "77798940  1797  1876   29  2785  1600  1605  1598.0  132  159.0   \n",
       "77798941  1797  1886   30  2785  1600  1605  1598.0  132  159.0   \n",
       "77798942  1797  1895   30  2785  1600  1605  1598.0  132  159.0   \n",
       "77798943  1797  1874   29  2785  1600  1605  1598.0  132  159.0   \n",
       "\n",
       "          Fuel_consumption  ...  Ft_DIESEL/ELECTRIC  Ft_E85  Ft_LPG  Ft_NG  \\\n",
       "ID                          ...                                              \n",
       "77798939               1.3  ...                   0       0       0      0   \n",
       "77798940               1.3  ...                   0       0       0      0   \n",
       "77798941               1.3  ...                   0       0       0      0   \n",
       "77798942               1.3  ...                   0       0       0      0   \n",
       "77798943               1.3  ...                   0       0       0      0   \n",
       "\n",
       "          Ft_PETROL  Ft_PETROL/ELECTRIC  Fm_F  Fm_H  Fm_M  Fm_P  \n",
       "ID                                                               \n",
       "77798939          0                   1     0     0     0     1  \n",
       "77798940          0                   1     0     0     0     1  \n",
       "77798941          0                   1     0     0     0     1  \n",
       "77798942          0                   1     0     0     0     1  \n",
       "77798943          0                   1     0     0     0     1  \n",
       "\n",
       "[5 rows x 22 columns]"
      ]
     },
     "execution_count": 72,
     "metadata": {},
     "output_type": "execute_result"
    }
   ],
   "source": [
    "df_cod.head()"
   ]
  },
  {
   "cell_type": "code",
   "execution_count": 73,
   "id": "ae61878d-8a11-4788-88ff-0ab6e7a093a0",
   "metadata": {},
   "outputs": [
    {
     "name": "stdout",
     "output_type": "stream",
     "text": [
      "<class 'pandas.core.frame.DataFrame'>\n",
      "Int64Index: 94994 entries, 77798939 to 77955102\n",
      "Data columns (total 22 columns):\n",
      " #   Column              Non-Null Count  Dtype  \n",
      "---  ------              --------------  -----  \n",
      " 0   m                   94994 non-null  int64  \n",
      " 1   Mt                  94994 non-null  int64  \n",
      " 2   CO2                 94994 non-null  int64  \n",
      " 3   W                   94994 non-null  int64  \n",
      " 4   At1                 94994 non-null  int64  \n",
      " 5   At2                 94994 non-null  int64  \n",
      " 6   ec                  94994 non-null  float64\n",
      " 7   ep                  94994 non-null  int64  \n",
      " 8   z                   94994 non-null  float64\n",
      " 9   Fuel_consumption    94994 non-null  float64\n",
      " 10  Electric_range      94994 non-null  float64\n",
      " 11  Cr_M1G              94994 non-null  int32  \n",
      " 12  Ft_DIESEL/ELECTRIC  94994 non-null  int32  \n",
      " 13  Ft_E85              94994 non-null  int32  \n",
      " 14  Ft_LPG              94994 non-null  int32  \n",
      " 15  Ft_NG               94994 non-null  int32  \n",
      " 16  Ft_PETROL           94994 non-null  int32  \n",
      " 17  Ft_PETROL/ELECTRIC  94994 non-null  int32  \n",
      " 18  Fm_F                94994 non-null  int32  \n",
      " 19  Fm_H                94994 non-null  int32  \n",
      " 20  Fm_M                94994 non-null  int32  \n",
      " 21  Fm_P                94994 non-null  int32  \n",
      "dtypes: float64(4), int32(11), int64(7)\n",
      "memory usage: 12.7 MB\n"
     ]
    }
   ],
   "source": [
    "df_cod.info()"
   ]
  },
  {
   "cell_type": "code",
   "execution_count": 74,
   "id": "191326b7-f0df-41d7-94e5-2eeea0830271",
   "metadata": {},
   "outputs": [],
   "source": [
    "df_cod.to_csv(\"./data_CO2_nettoyee.csv\")"
   ]
  },
  {
   "cell_type": "code",
   "execution_count": null,
   "id": "ec231dbc-8252-4a1d-bb1d-86758c9324be",
   "metadata": {},
   "outputs": [],
   "source": []
  }
 ],
 "metadata": {
  "kernelspec": {
   "display_name": "Python 3 (ipykernel)",
   "language": "python",
   "name": "python3"
  },
  "language_info": {
   "codemirror_mode": {
    "name": "ipython",
    "version": 3
   },
   "file_extension": ".py",
   "mimetype": "text/x-python",
   "name": "python",
   "nbconvert_exporter": "python",
   "pygments_lexer": "ipython3",
   "version": "3.9.12"
  }
 },
 "nbformat": 4,
 "nbformat_minor": 5
}
